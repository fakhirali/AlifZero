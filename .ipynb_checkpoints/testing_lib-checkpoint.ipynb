{
 "cells": [
  {
   "cell_type": "code",
   "execution_count": 8,
   "metadata": {},
   "outputs": [],
   "source": [
    "import lib"
   ]
  },
  {
   "cell_type": "code",
   "execution_count": 9,
   "metadata": {},
   "outputs": [
    {
     "name": "stdout",
     "output_type": "stream",
     "text": [
      "could not read game number 1921\n",
      "2115\n"
     ]
    }
   ],
   "source": [
    "games = lib.read_data('data/Player/Kasparov.pgn') \n",
    "print(len(games))"
   ]
  },
  {
   "cell_type": "code",
   "execution_count": 11,
   "metadata": {},
   "outputs": [],
   "source": [
    "positions, moves = lib.get_positions_moves(a)"
   ]
  },
  {
   "cell_type": "code",
   "execution_count": 12,
   "metadata": {},
   "outputs": [
    {
     "data": {
      "text/plain": [
       "['rnbqkbnr/pppppppp/8/8/4P3/8/PPPP1PPP/RNBQKBNR b KQkq - 0 1',\n",
       " 'rnbqkbnr/pp1ppppp/8/2p5/4P3/8/PPPP1PPP/RNBQKBNR w KQkq - 0 2',\n",
       " 'rnbqkbnr/pp1ppppp/8/2p5/4P3/2P5/PP1P1PPP/RNBQKBNR b KQkq - 0 2',\n",
       " 'rnbqkb1r/pp1ppppp/5n2/2p5/4P3/2P5/PP1P1PPP/RNBQKBNR w KQkq - 1 3',\n",
       " 'rnbqkb1r/pp1ppppp/5n2/2p1P3/8/2P5/PP1P1PPP/RNBQKBNR b KQkq - 0 3',\n",
       " 'rnbqkb1r/pp1ppppp/8/2pnP3/8/2P5/PP1P1PPP/RNBQKBNR w KQkq - 1 4',\n",
       " 'rnbqkb1r/pp1ppppp/8/2pnP3/3P4/2P5/PP3PPP/RNBQKBNR b KQkq - 0 4',\n",
       " 'r1bqkb1r/pp1ppppp/2n5/2pnP3/3P4/2P5/PP3PPP/RNBQKBNR w KQkq - 1 5',\n",
       " 'r1bqkb1r/pp1ppppp/2n5/2pnP3/3P4/2P2N2/PP3PPP/RNBQKB1R b KQkq - 2 5',\n",
       " 'r1bqkb1r/pp1ppppp/2n5/3nP3/3p4/2P2N2/PP3PPP/RNBQKB1R w KQkq - 0 6',\n",
       " 'r1bqkb1r/pp1ppppp/2n5/3nP3/3P4/5N2/PP3PPP/RNBQKB1R b KQkq - 0 6',\n",
       " 'r1bqkb1r/pp1p1ppp/2n1p3/3nP3/3P4/5N2/PP3PPP/RNBQKB1R w KQkq - 0 7',\n",
       " 'r1bqkb1r/pp1p1ppp/2n1p3/3nP3/3P4/P4N2/1P3PPP/RNBQKB1R b KQkq - 0 7',\n",
       " 'r1bqkb1r/pp3ppp/2npp3/3nP3/3P4/P4N2/1P3PPP/RNBQKB1R w KQkq - 0 8',\n",
       " 'r1bqkb1r/pp3ppp/2npp3/3nP3/3P4/P2B1N2/1P3PPP/RNBQK2R b KQkq - 1 8',\n",
       " 'r1b1kb1r/pp3ppp/2npp3/q2nP3/3P4/P2B1N2/1P3PPP/RNBQK2R w KQkq - 2 9',\n",
       " 'r1b1kb1r/pp3ppp/2npp3/q2nP3/3P4/P2B1N2/1P1B1PPP/RN1QK2R b KQkq - 3 9',\n",
       " 'r1b1kb1r/pp3ppp/1qnpp3/3nP3/3P4/P2B1N2/1P1B1PPP/RN1QK2R w KQkq - 4 10',\n",
       " 'r1b1kb1r/pp3ppp/1qnpp3/3nP3/3P4/P1NB1N2/1P1B1PPP/R2QK2R b KQkq - 5 10',\n",
       " 'r1b1kb1r/pp3ppp/1qnpp3/4P3/3P4/P1nB1N2/1P1B1PPP/R2QK2R w KQkq - 0 11',\n",
       " 'r1b1kb1r/pp3ppp/1qnpp3/4P3/3P4/P1BB1N2/1P3PPP/R2QK2R b KQkq - 0 11',\n",
       " 'r1b1kb1r/pp3ppp/1qn1p3/4p3/3P4/P1BB1N2/1P3PPP/R2QK2R w KQkq - 0 12',\n",
       " 'r1b1kb1r/pp3ppp/1qn1p3/4P3/8/P1BB1N2/1P3PPP/R2QK2R b KQkq - 0 12',\n",
       " 'r1b1k2r/pp2bppp/1qn1p3/4P3/8/P1BB1N2/1P3PPP/R2QK2R w KQkq - 1 13',\n",
       " 'r1b1k2r/pp2bppp/1qn1p3/4P3/8/P1BB1N2/1P3PPP/R2Q1RK1 b kq - 2 13',\n",
       " 'r3k2r/pp1bbppp/1qn1p3/4P3/8/P1BB1N2/1P3PPP/R2Q1RK1 w kq - 3 14',\n",
       " 'r3k2r/pp1bbppp/1qn1p3/4P3/8/P1BB4/1P1N1PPP/R2Q1RK1 b kq - 4 14',\n",
       " 'r3k2r/ppqbbppp/2n1p3/4P3/8/P1BB4/1P1N1PPP/R2Q1RK1 w kq - 5 15',\n",
       " 'r3k2r/ppqbbppp/2n1p3/4P3/6Q1/P1BB4/1P1N1PPP/R4RK1 b kq - 6 15',\n",
       " '2kr3r/ppqbbppp/2n1p3/4P3/6Q1/P1BB4/1P1N1PPP/R4RK1 w - - 7 16',\n",
       " '2kr3r/ppqbbppp/2n1p3/4P3/6Q1/P1BB4/1P1N1PPP/R1R3K1 b - - 8 16',\n",
       " '1k1r3r/ppqbbppp/2n1p3/4P3/6Q1/P1BB4/1P1N1PPP/R1R3K1 w - - 9 17',\n",
       " '1k1r3r/ppqbbppp/2n1p3/4P3/2Q5/P1BB4/1P1N1PPP/R1R3K1 b - - 10 17',\n",
       " '1kr4r/ppqbbppp/2n1p3/4P3/2Q5/P1BB4/1P1N1PPP/R1R3K1 w - - 11 18',\n",
       " '1kr4r/ppqbbppp/2n1p3/4P3/1PQ5/P1BB4/3N1PPP/R1R3K1 b - - 0 18',\n",
       " '1kr4r/ppqbb1pp/2n1pp2/4P3/1PQ5/P1BB4/3N1PPP/R1R3K1 w - - 0 19',\n",
       " '1kr4r/ppqbb1pp/2n1pp2/4P3/1PQ5/P1BB1N2/5PPP/R1R3K1 b - - 1 19',\n",
       " '1kr4r/pp1bb1pp/1qn1pp2/4P3/1PQ5/P1BB1N2/5PPP/R1R3K1 w - - 2 20',\n",
       " '1kr4r/pp1bb1pp/1qn1pp2/4P3/1P2Q3/P1BB1N2/5PPP/R1R3K1 b - - 3 20',\n",
       " '1kr4r/pp1bb1pp/1qn1p3/4Pp2/1P2Q3/P1BB1N2/5PPP/R1R3K1 w - - 0 21',\n",
       " '1kr4r/pp1bb1pp/1qn1p3/4Pp2/1P6/P1BB1N2/5PPP/R1R1Q1K1 b - - 1 21',\n",
       " '1kr4r/1p1bb1pp/pqn1p3/4Pp2/1P6/P1BB1N2/5PPP/R1R1Q1K1 w - - 0 22',\n",
       " '1kr4r/1p1bb1pp/pqn1p3/4Pp2/1P6/P1BB1N2/5PPP/1RR1Q1K1 b - - 1 22',\n",
       " '1kr4r/1p1bb2p/pqn1p3/4Ppp1/1P6/P1BB1N2/5PPP/1RR1Q1K1 w - - 0 23',\n",
       " '1kr4r/1p1bb2p/pqn1p3/4Ppp1/1P6/P1BB4/3N1PPP/1RR1Q1K1 b - - 1 23',\n",
       " '1kr4r/1p1bb2p/pq2p3/4Ppp1/1P1n4/P1BB4/3N1PPP/1RR1Q1K1 w - - 2 24',\n",
       " '1kr4r/1p1bb2p/pq2p3/4Ppp1/1P1n4/P1BBQ3/3N1PPP/1RR3K1 b - - 3 24',\n",
       " '1k5r/1p1bb2p/pq2p3/4Ppp1/1P1n4/P1rBQ3/3N1PPP/1RR3K1 w - - 0 25',\n",
       " '1k5r/1p1bb2p/pq2p3/4Ppp1/1P1n4/P1RBQ3/3N1PPP/1R4K1 b - - 0 25',\n",
       " '1k5r/1p1bb2p/pq2p3/4P1p1/1P1n1p2/P1RBQ3/3N1PPP/1R4K1 w - - 0 26',\n",
       " '1k5r/1p1bb2p/pq2p3/4P1p1/1P1n1p2/P1RB4/3N1PPP/1R2Q1K1 b - - 1 26',\n",
       " '1k5r/1p1bb2p/pq2p3/4P3/1P1n1pp1/P1RB4/3N1PPP/1R2Q1K1 w - - 0 27',\n",
       " '1k5r/1p1bb2p/pq2p3/4P3/1P1nNpp1/P1RB4/5PPP/1R2Q1K1 b - - 1 27',\n",
       " '1k5r/1p2b2p/pqb1p3/4P3/1P1nNpp1/P1RB4/5PPP/1R2Q1K1 w - - 2 28',\n",
       " '1k5r/1p2b2p/pqb1p3/2N1P3/1P1n1pp1/P1RB4/5PPP/1R2Q1K1 b - - 3 28',\n",
       " '7r/kp2b2p/pqb1p3/2N1P3/1P1n1pp1/P1RB4/5PPP/1R2Q1K1 w - - 4 29',\n",
       " '7r/kp2b2p/pqb1p3/2N1P3/PP1n1pp1/2RB4/5PPP/1R2Q1K1 b - - 0 29',\n",
       " '7r/kp2b2p/pq2p3/2N1P3/PP1n1pp1/2RB1b2/5PPP/1R2Q1K1 w - - 1 30',\n",
       " '7r/kp2b2p/pq2p3/P1N1P3/1P1n1pp1/2RB1b2/5PPP/1R2Q1K1 b - - 0 30',\n",
       " '3q3r/kp2b2p/p3p3/P1N1P3/1P1n1pp1/2RB1b2/5PPP/1R2Q1K1 w - - 1 31',\n",
       " '3q3r/kp2b2p/p3p3/P1N1P3/1PBn1pp1/2R2b2/5PPP/1R2Q1K1 b - - 2 31',\n",
       " '3q3r/kp5p/p3p3/P1b1P3/1PBn1pp1/2R2b2/5PPP/1R2Q1K1 w - - 0 32',\n",
       " '3q3r/kp5p/p3p3/P1P1P3/2Bn1pp1/2R2b2/5PPP/1R2Q1K1 b - - 0 32',\n",
       " '7r/kp5p/p3p3/P1P1P3/2Bn1ppq/2R2b2/5PPP/1R2Q1K1 w - - 1 33',\n",
       " '7r/kp5p/p3p3/P1P1P3/2Bn1ppq/2R2P2/5P1P/1R2Q1K1 b - - 0 33',\n",
       " '7r/kp5p/p3p3/P1P1P3/2Bn1p1q/2R2p2/5P1P/1R2Q1K1 w - - 0 34',\n",
       " '7r/kp5p/p3p3/P1P1P3/2Bn1p1q/2R2p2/5P1P/1R2Q2K b - - 1 34',\n",
       " '6r1/kp5p/p3p3/P1P1P3/2Bn1p1q/2R2p2/5P1P/1R2Q2K w - - 2 35',\n",
       " '6r1/kp5p/p3p3/P1P1P3/2BnQp1q/2R2p2/5P1P/1R5K b - - 3 35',\n",
       " '8/kp4rp/p3p3/P1P1P3/2BnQp1q/2R2p2/5P1P/1R5K w - - 4 36',\n",
       " '8/kp4rp/p3p3/P1P1P3/2BQ1p1q/2R2p2/5P1P/1R5K b - - 0 36',\n",
       " '8/kp4rp/p3p3/P1P1P1q1/2BQ1p2/2R2p2/5P1P/1R5K w - - 1 37',\n",
       " '8/kp4rp/p1P1p3/P3P1q1/2BQ1p2/2R2p2/5P1P/1R5K b - - 0 37',\n",
       " '1k6/1p4rp/p1P1p3/P3P1q1/2BQ1p2/2R2p2/5P1P/1R5K w - - 1 38',\n",
       " '1k6/1pP3rp/p3p3/P3P1q1/2BQ1p2/2R2p2/5P1P/1R5K b - - 0 38',\n",
       " '1k6/1pr4p/p3p3/P3P1q1/2BQ1p2/2R2p2/5P1P/1R5K w - - 0 39',\n",
       " '1k6/1pr4p/p3p3/P3P1q1/2BQ1p2/2R2p2/5P1P/6RK b - - 1 39',\n",
       " '1k6/1pr4p/p3p3/P3P2q/2BQ1p2/2R2p2/5P1P/6RK w - - 2 40',\n",
       " '1k4R1/1pr4p/p3p3/P3P2q/2BQ1p2/2R2p2/5P1P/7K b - - 3 40',\n",
       " '1kr3R1/1p5p/p3p3/P3P2q/2BQ1p2/2R2p2/5P1P/7K w - - 4 41',\n",
       " '1kr3R1/1p5p/p2Qp3/P3P2q/2B2p2/2R2p2/5P1P/7K b - - 5 41']"
      ]
     },
     "execution_count": 12,
     "metadata": {},
     "output_type": "execute_result"
    }
   ],
   "source": [
    "positions"
   ]
  },
  {
   "cell_type": "code",
   "execution_count": null,
   "metadata": {},
   "outputs": [],
   "source": []
  }
 ],
 "metadata": {
  "kernelspec": {
   "display_name": "Python 3",
   "language": "python",
   "name": "python3"
  },
  "language_info": {
   "codemirror_mode": {
    "name": "ipython",
    "version": 3
   },
   "file_extension": ".py",
   "mimetype": "text/x-python",
   "name": "python",
   "nbconvert_exporter": "python",
   "pygments_lexer": "ipython3",
   "version": "3.8.10"
  }
 },
 "nbformat": 4,
 "nbformat_minor": 4
}
